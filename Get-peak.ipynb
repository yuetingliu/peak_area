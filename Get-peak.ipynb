{
 "cells": [
  {
   "cell_type": "code",
   "execution_count": 2,
   "metadata": {},
   "outputs": [],
   "source": [
    "\"\"\"Instructions.\n",
    "\n",
    "step 1: set path\n",
    "        put path of data inside square brackets, surrounded with quotes\n",
    "        if more than one path, use comma to separate\n",
    "        e.g., PATHS = ['folder1'], or PATHS = ['folder1', 'folder2']\n",
    "step 2: click Cell, then Run All\n",
    "\"\"\"\n",
    "\n",
    "PATHS = []    "
   ]
  },
  {
   "cell_type": "code",
   "execution_count": 3,
   "metadata": {},
   "outputs": [],
   "source": [
    "import logging\n",
    "from peak import process_path\n",
    "logging.basicConfig(\n",
    "        format='[%(asctime)s %(levelname)s] %(message)s',\n",
    "        level=logging.INFO\n",
    "    )"
   ]
  },
  {
   "cell_type": "code",
   "execution_count": 4,
   "metadata": {},
   "outputs": [
    {
     "name": "stderr",
     "output_type": "stream",
     "text": [
      "[2020-03-14 13:00:53,873 INFO] Processing data at .\n",
      "[2020-03-14 13:00:53,878 INFO] --------------------\n",
      "[2020-03-14 13:00:53,880 INFO] Load all data files\n",
      "[2020-03-14 13:00:53,881 INFO] ( 1/20) process 2.txt\n",
      "[2020-03-14 13:00:53,954 INFO] ( 2/20) process 3.txt\n",
      "[2020-03-14 13:00:54,031 INFO] ( 3/20) process 4.txt\n",
      "[2020-03-14 13:00:54,086 INFO] ( 4/20) process 5.txt\n",
      "[2020-03-14 13:00:54,155 INFO] ( 5/20) process 6.txt\n",
      "[2020-03-14 13:00:54,215 INFO] ( 6/20) process 7.txt\n",
      "[2020-03-14 13:00:54,267 INFO] ( 7/20) process 8.txt\n",
      "[2020-03-14 13:00:54,321 INFO] ( 8/20) process 9.txt\n",
      "[2020-03-14 13:00:54,375 INFO] ( 9/20) process 10.txt\n",
      "[2020-03-14 13:00:54,430 INFO] (10/20) process 11.txt\n",
      "[2020-03-14 13:00:54,483 INFO] (11/20) process 12.txt\n",
      "[2020-03-14 13:00:54,535 INFO] (12/20) process 13.txt\n",
      "[2020-03-14 13:00:54,588 INFO] (13/20) process 14.txt\n",
      "[2020-03-14 13:00:54,645 INFO] (14/20) process 15.txt\n",
      "[2020-03-14 13:00:54,699 INFO] (15/20) process 16.txt\n",
      "[2020-03-14 13:00:54,757 INFO] (16/20) process 17.txt\n",
      "[2020-03-14 13:00:54,817 INFO] (17/20) process 18.txt\n",
      "[2020-03-14 13:00:54,878 INFO] (18/20) process 19.txt\n",
      "[2020-03-14 13:00:54,975 INFO] (19/20) process 20.txt\n",
      "[2020-03-14 13:00:55,033 INFO] (20/20) process 100.txt\n",
      "[2020-03-14 13:00:55,074 WARNING] Cannot process fn 100.txt\n",
      "[2020-03-14 13:00:55,083 INFO] Write data to result.xlsx\n"
     ]
    },
    {
     "name": "stdout",
     "output_type": "stream",
     "text": [
      "\n"
     ]
    },
    {
     "name": "stderr",
     "output_type": "stream",
     "text": [
      "[2020-03-14 13:00:55,434 WARNING] !!!Yixiao, check these files, ['100.txt']\n"
     ]
    }
   ],
   "source": [
    "paths = PATHS or '.'\n",
    "process_path(paths)"
   ]
  }
 ],
 "metadata": {
  "kernelspec": {
   "display_name": "Python 3",
   "language": "python",
   "name": "python3"
  },
  "language_info": {
   "codemirror_mode": {
    "name": "ipython",
    "version": 3
   },
   "file_extension": ".py",
   "mimetype": "text/x-python",
   "name": "python",
   "nbconvert_exporter": "python",
   "pygments_lexer": "ipython3",
   "version": "3.7.4"
  }
 },
 "nbformat": 4,
 "nbformat_minor": 2
}
